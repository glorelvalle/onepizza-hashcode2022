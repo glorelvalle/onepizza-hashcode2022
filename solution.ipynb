{
 "cells": [
  {
   "cell_type": "code",
   "execution_count": 15,
   "metadata": {},
   "outputs": [],
   "source": [
    "import random\n",
    "\n",
    "path = \"input_data/a_an_example\"\n",
    "\n",
    "file = open(path + \".in.txt\", 'r').readlines()\n",
    "n_customers = int(file[0])\n",
    "\n",
    "final_customer = 0\n",
    "final_menu = set()\n",
    "\n",
    "book = []\n",
    "\n",
    "for n in range(n_customers):\n",
    "    likes = file[2*n+1].split()[1:]\n",
    "    dislikes = file[2*n+2].split()[1:]\n",
    "    #readable_client = {'likes': set(likes), 'dislikes': set(dislikes)}\n",
    "    readable_client = [set(likes), set(dislikes)]\n",
    "    book.append(readable_client)\n",
    "\n",
    "for times in range(20):\n",
    "    menu = set()\n",
    "    new_menu = set()\n",
    "    customer = 0\n",
    "\n",
    "    for i in range(n_customers):\n",
    "        new_menu = menu.union(book[i][0])\n",
    "        new_menu = new_menu - set(book[i][1])\n",
    "        count = 0\n",
    "\n",
    "        for j in range(n_customers):\n",
    "            if book[j][0] <= new_menu and book[j][1] & new_menu == set():\n",
    "                count += 1\n",
    "\n",
    "        if count > customer:\n",
    "            customer = count\n",
    "            menu = new_menu\n",
    "\n",
    "    if customer > final_customer:\n",
    "        final_customer = customer\n",
    "        final_menu = menu\n",
    "\n",
    "    random.shuffle(book)\n",
    "\n",
    "output = str(len(final_menu)) + \" \" + ' '.join(final_menu)\n",
    "\n",
    "with open(path + \".out.txt\", \"x\") as file_o:\n",
    "    file_o.write(output)"
   ]
  },
  {
   "cell_type": "code",
   "execution_count": null,
   "metadata": {},
   "outputs": [],
   "source": []
  }
 ],
 "metadata": {
  "interpreter": {
   "hash": "783a82df1077204cfca341a65992758a52c4c6d1f81a5d1532917402838d8b8d"
  },
  "kernelspec": {
   "display_name": "Python 3.9.7 ('base')",
   "language": "python",
   "name": "python3"
  },
  "language_info": {
   "codemirror_mode": {
    "name": "ipython",
    "version": 3
   },
   "file_extension": ".py",
   "mimetype": "text/x-python",
   "name": "python",
   "nbconvert_exporter": "python",
   "pygments_lexer": "ipython3",
   "version": "3.9.7"
  },
  "orig_nbformat": 4
 },
 "nbformat": 4,
 "nbformat_minor": 2
}
